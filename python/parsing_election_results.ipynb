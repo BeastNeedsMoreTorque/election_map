{
 "cells": [
  {
   "cell_type": "markdown",
   "metadata": {},
   "source": [
    "# Parsing Election Results "
   ]
  },
  {
   "cell_type": "markdown",
   "metadata": {},
   "source": [
    "Original datafile from http://enr.elections.ca/National.aspx?lang=e"
   ]
  },
  {
   "cell_type": "code",
   "execution_count": 30,
   "metadata": {
    "collapsed": false
   },
   "outputs": [],
   "source": [
    "import pandas as pd\n",
    "import numpy as np"
   ]
  },
  {
   "cell_type": "code",
   "execution_count": 64,
   "metadata": {
    "collapsed": false
   },
   "outputs": [],
   "source": [
    "df = pd.read_csv('../data/final_results.txt', engine='python', sep='\\t', header=1, index_col=None,\n",
    "                 skipfooter=3)"
   ]
  },
  {
   "cell_type": "code",
   "execution_count": 65,
   "metadata": {
    "collapsed": false
   },
   "outputs": [
    {
     "data": {
      "text/plain": [
       "Index([u'Electoral district number - Numéro de la circonscription', u'Electoral district name', u'Nom de la circonscription', u'Type of results*', u'Type de résultats**', u'Surname - Nom de famille', u'Middle name(s) - Autre(s) prénom(s)', u'Given name - Prénom', u'Political affiliation', u'Appartenance politique', u'Votes obtained - Votes obtenus', u'% Votes obtained - Votes obtenus %', u'Rejected ballots - Bulletins rejetés***', u'Total number of ballots cast - Nombre total de votes déposés'], dtype='object')"
      ]
     },
     "execution_count": 65,
     "metadata": {},
     "output_type": "execute_result"
    }
   ],
   "source": [
    "df.columns"
   ]
  },
  {
   "cell_type": "code",
   "execution_count": 66,
   "metadata": {
    "collapsed": false
   },
   "outputs": [
    {
     "data": {
      "text/plain": [
       "5"
      ]
     },
     "execution_count": 66,
     "metadata": {},
     "output_type": "execute_result"
    }
   ],
   "source": [
    "len(df)/338"
   ]
  },
  {
   "cell_type": "code",
   "execution_count": 67,
   "metadata": {
    "collapsed": false
   },
   "outputs": [],
   "source": [
    "df['FEDNUM'] = df['Electoral district number - Numéro de la circonscription']\n",
    "del df['Electoral district number - Numéro de la circonscription']"
   ]
  },
  {
   "cell_type": "code",
   "execution_count": 68,
   "metadata": {
    "collapsed": true
   },
   "outputs": [],
   "source": [
    "party_dict = {'Bloc Qu\\xc3\\xa9b\\xc3\\xa9cois': 'blc', 'Liberal': 'lib', 'Green Party': 'grn',\n",
    "              'Conservative': 'con', 'NDP-New Democratic Party': 'ndp'}"
   ]
  },
  {
   "cell_type": "code",
   "execution_count": 69,
   "metadata": {
    "collapsed": true
   },
   "outputs": [],
   "source": [
    "for p in set(df['Political affiliation']):\n",
    "    if p not in party_dict:\n",
    "        party_dict[p] = 'oth'"
   ]
  },
  {
   "cell_type": "code",
   "execution_count": 70,
   "metadata": {
    "collapsed": false
   },
   "outputs": [],
   "source": [
    "def party(p): return party_dict[p]"
   ]
  },
  {
   "cell_type": "code",
   "execution_count": 71,
   "metadata": {
    "collapsed": false
   },
   "outputs": [],
   "source": [
    "df['party_short'] = df['Political affiliation'].apply(party)"
   ]
  },
  {
   "cell_type": "code",
   "execution_count": 98,
   "metadata": {
    "collapsed": true
   },
   "outputs": [],
   "source": [
    "cols = ['riding_name', 'con', 'lib', 'ndp', 'grn', 'blc', 'oth', 'elected', 'check_sum']\n",
    "df_parsed = pd.DataFrame(columns=cols, index=set(df['FEDNUM']))\n",
    "df_parsed.index.name = 'FEDNUM'"
   ]
  },
  {
   "cell_type": "code",
   "execution_count": 99,
   "metadata": {
    "collapsed": false
   },
   "outputs": [],
   "source": [
    "for i in df.index:\n",
    "    \n",
    "    i2 = df['FEDNUM'][i]\n",
    "    if not isinstance(df_parsed['riding_name'][i2], str):\n",
    "        df_parsed.ix[i2, 'riding_name'] = df['Electoral district name'][i]\n",
    "    p = df['party_short'][i]\n",
    "    \n",
    "    if np.isnan(df_parsed.ix[i2, p]):\n",
    "        df_parsed.ix[i2, p] = df['% Votes obtained - Votes obtenus %'][i]\n",
    "    else:\n",
    "        df_parsed.ix[i2, p] += df['% Votes obtained - Votes obtenus %'][i]"
   ]
  },
  {
   "cell_type": "code",
   "execution_count": 100,
   "metadata": {
    "collapsed": false
   },
   "outputs": [],
   "source": [
    "parties = set(party_dict.values())"
   ]
  },
  {
   "cell_type": "code",
   "execution_count": 101,
   "metadata": {
    "collapsed": false
   },
   "outputs": [],
   "source": [
    "for i in df_parsed.index:\n",
    "    m = 0\n",
    "    check_sum = 0\n",
    "    for p in parties:\n",
    "        if not np.isnan(df_parsed[p][i]):\n",
    "            check_sum += df_parsed[p][i]\n",
    "            if df_parsed[p][i] > m: \n",
    "                m = df_parsed[p][i]\n",
    "                elected = p\n",
    "    df_parsed.ix[i, 'elected'] = elected\n",
    "    df_parsed.ix[i, 'check_sum'] = check_sum\n",
    "    if elected == 'oth':\n",
    "        print elected"
   ]
  },
  {
   "cell_type": "code",
   "execution_count": 106,
   "metadata": {
    "collapsed": false
   },
   "outputs": [
    {
     "data": {
      "text/html": [
       "<div style=\"max-height:1000px;max-width:1500px;overflow:auto;\">\n",
       "<table border=\"1\" class=\"dataframe\">\n",
       "  <thead>\n",
       "    <tr style=\"text-align: right;\">\n",
       "      <th></th>\n",
       "      <th>riding_name</th>\n",
       "      <th>con</th>\n",
       "      <th>lib</th>\n",
       "      <th>ndp</th>\n",
       "      <th>grn</th>\n",
       "      <th>blc</th>\n",
       "      <th>oth</th>\n",
       "      <th>elected</th>\n",
       "      <th>check_sum</th>\n",
       "    </tr>\n",
       "    <tr>\n",
       "      <th>FEDNUM</th>\n",
       "      <th></th>\n",
       "      <th></th>\n",
       "      <th></th>\n",
       "      <th></th>\n",
       "      <th></th>\n",
       "      <th></th>\n",
       "      <th></th>\n",
       "      <th></th>\n",
       "      <th></th>\n",
       "    </tr>\n",
       "  </thead>\n",
       "  <tbody>\n",
       "    <tr>\n",
       "      <th>24064</th>\n",
       "      <td> Rosemont--La Petite-Patrie</td>\n",
       "      <td>  4.3</td>\n",
       "      <td> 20.7</td>\n",
       "      <td> 49.2</td>\n",
       "      <td> 3.1</td>\n",
       "      <td>   21</td>\n",
       "      <td> 1.7</td>\n",
       "      <td> ndp</td>\n",
       "      <td> 100</td>\n",
       "    </tr>\n",
       "    <tr>\n",
       "      <th>24065</th>\n",
       "      <td>         Marc-Aurèle-Fortin</td>\n",
       "      <td> 11.8</td>\n",
       "      <td> 41.6</td>\n",
       "      <td> 23.3</td>\n",
       "      <td> 1.9</td>\n",
       "      <td> 21.4</td>\n",
       "      <td> NaN</td>\n",
       "      <td> lib</td>\n",
       "      <td> 100</td>\n",
       "    </tr>\n",
       "    <tr>\n",
       "      <th>24066</th>\n",
       "      <td>     Saint-Hyacinthe--Bagot</td>\n",
       "      <td> 16.8</td>\n",
       "      <td> 27.5</td>\n",
       "      <td> 28.5</td>\n",
       "      <td> 2.3</td>\n",
       "      <td> 24.4</td>\n",
       "      <td> 0.5</td>\n",
       "      <td> ndp</td>\n",
       "      <td> 100</td>\n",
       "    </tr>\n",
       "    <tr>\n",
       "      <th>24067</th>\n",
       "      <td>                 Saint-Jean</td>\n",
       "      <td> 10.8</td>\n",
       "      <td> 33.2</td>\n",
       "      <td> 29.1</td>\n",
       "      <td> 2.1</td>\n",
       "      <td> 24.8</td>\n",
       "      <td> NaN</td>\n",
       "      <td> lib</td>\n",
       "      <td> 100</td>\n",
       "    </tr>\n",
       "    <tr>\n",
       "      <th>24068</th>\n",
       "      <td>              Saint-Laurent</td>\n",
       "      <td> 19.5</td>\n",
       "      <td> 61.6</td>\n",
       "      <td> 11.5</td>\n",
       "      <td> 2.4</td>\n",
       "      <td>  4.7</td>\n",
       "      <td> 0.3</td>\n",
       "      <td> lib</td>\n",
       "      <td> 100</td>\n",
       "    </tr>\n",
       "  </tbody>\n",
       "</table>\n",
       "</div>"
      ],
      "text/plain": [
       "                       riding_name   con   lib   ndp  grn   blc  oth elected  \\\n",
       "FEDNUM                                                                         \n",
       "24064   Rosemont--La Petite-Patrie   4.3  20.7  49.2  3.1    21  1.7     ndp   \n",
       "24065           Marc-Aurèle-Fortin  11.8  41.6  23.3  1.9  21.4  NaN     lib   \n",
       "24066       Saint-Hyacinthe--Bagot  16.8  27.5  28.5  2.3  24.4  0.5     ndp   \n",
       "24067                   Saint-Jean  10.8  33.2  29.1  2.1  24.8  NaN     lib   \n",
       "24068                Saint-Laurent  19.5  61.6  11.5  2.4   4.7  0.3     lib   \n",
       "\n",
       "       check_sum  \n",
       "FEDNUM            \n",
       "24064        100  \n",
       "24065        100  \n",
       "24066        100  \n",
       "24067        100  \n",
       "24068        100  "
      ]
     },
     "execution_count": 106,
     "metadata": {},
     "output_type": "execute_result"
    }
   ],
   "source": [
    "df_parsed.head()"
   ]
  },
  {
   "cell_type": "code",
   "execution_count": 104,
   "metadata": {
    "collapsed": false
   },
   "outputs": [
    {
     "data": {
      "text/plain": [
       "{99.800000000000011,\n",
       " 99.899999999999977,\n",
       " 99.899999999999991,\n",
       " 99.900000000000006,\n",
       " 99.999999999999986,\n",
       " 100.0,\n",
       " 100.00000000000001,\n",
       " 100.09999999999999,\n",
       " 100.10000000000001,\n",
       " 100.10000000000002,\n",
       " 100.19999999999999}"
      ]
     },
     "execution_count": 104,
     "metadata": {},
     "output_type": "execute_result"
    }
   ],
   "source": [
    "set(df_parsed['check_sum'])"
   ]
  },
  {
   "cell_type": "code",
   "execution_count": 107,
   "metadata": {
    "collapsed": false
   },
   "outputs": [],
   "source": [
    "df_parsed.to_csv('../data/final_results_parsed.csv')"
   ]
  },
  {
   "cell_type": "code",
   "execution_count": null,
   "metadata": {
    "collapsed": true
   },
   "outputs": [],
   "source": []
  }
 ],
 "metadata": {
  "kernelspec": {
   "display_name": "Python 2",
   "language": "python",
   "name": "python2"
  },
  "language_info": {
   "codemirror_mode": {
    "name": "ipython",
    "version": 2
   },
   "file_extension": ".py",
   "mimetype": "text/x-python",
   "name": "python",
   "nbconvert_exporter": "python",
   "pygments_lexer": "ipython2",
   "version": "2.7.10"
  }
 },
 "nbformat": 4,
 "nbformat_minor": 0
}
