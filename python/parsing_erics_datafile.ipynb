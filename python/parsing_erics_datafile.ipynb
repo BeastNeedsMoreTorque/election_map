{
 "cells": [
  {
   "cell_type": "code",
   "execution_count": 1,
   "metadata": {
    "collapsed": true
   },
   "outputs": [],
   "source": [
    "def read_file(filename):\n",
    "    f = open(filename, 'r')\n",
    "    abc = f.readlines()\n",
    "    f.close()\n",
    "    return abc\n",
    "\n",
    "def tab_separate(contents):\n",
    "    xyz = []\n",
    "    for a in contents:\n",
    "        b = a.split(\"\\t\")\n",
    "        xyz.append(b)\n",
    "    return xyz\n",
    "\n",
    "def remove_non_data_lines(sep_contents):\n",
    "    a1 = []\n",
    "    for x in sep_contents:\n",
    "        if len([y for y in x if y == '']) < 2:\n",
    "            a1.append(x)\n",
    "    return a1\n",
    "\n",
    "def get_riding_names(clean_contents):\n",
    "    ridings = []\n",
    "    for i in range(338):\n",
    "        ridings.append(clean_contents[i*3+1][0])\n",
    "    return ridings"
   ]
  },
  {
   "cell_type": "code",
   "execution_count": 2,
   "metadata": {
    "collapsed": true
   },
   "outputs": [],
   "source": [
    "abc = read_file('../data/Ridings_Aug_28.txt')\n",
    "xyz = tab_separate(abc)\n",
    "a1 = remove_non_data_lines(xyz)\n",
    "ridings = get_riding_names(a1)"
   ]
  },
  {
   "cell_type": "code",
   "execution_count": 3,
   "metadata": {
    "collapsed": true
   },
   "outputs": [],
   "source": [
    "import fednum_dict as fed"
   ]
  },
  {
   "cell_type": "code",
   "execution_count": 4,
   "metadata": {
    "collapsed": true
   },
   "outputs": [],
   "source": [
    "a2 = {v: k for k, v in fed.fednum_dict.items()} "
   ]
  },
  {
   "cell_type": "code",
   "execution_count": 5,
   "metadata": {
    "collapsed": true
   },
   "outputs": [],
   "source": [
    "found = {}\n",
    "found['St. Albert \\x96 Edmonton*'] = 48031\n",
    "found['Sturgeon River'] = 48033\n",
    "found['Desneth\\xe9 \\x96 Missinippi \\x96 Churchill River'] = 47003 \n",
    "found['Dauphin \\x96 Swan River \\x96 Neepawa*'] = 46004 \n",
    "found['Haliburton \\x96 Kawaratha Lakes \\x96 Brock'] = 35034\n",
    "found['Orl\\xe9ans'] = 35076 \n",
    "found['Abitibi \\x96 T\\xe9miscamingue'] = 24002\n",
    "found['Ahuntsic \\x96 Cartierville'] = 24003\n",
    "found['Avignon \\x96 La Mitis \\x96 Matane \\x96 Matap\\xe9dia*'] = 24006\n",
    "found[\"Beauport \\x96 C\\xf4te-de-Beaupr\\xe9 \\x96 \\xcele d'Orl\\xe9ans \\x96 Charlevoix\"] = 24020\n",
    "found['B\\xe9cancour \\x96 Nicolet \\x96 Saurel'] = 24009 \n",
    "found['Bellechasse \\x96 Les Etchemins \\x96 L\\xe9vis'] = 24010 \n",
    "found['Berthier \\x96 Maskinong\\xe9'] = 24012 \n",
    "found['Ch\\xe2teauguay \\x96 Lacolle'] = 24021 \n",
    "found['Gasp\\xe9sie \\x96 Les \\xceles-de-la-Madeleine'] = 24026 \n",
    "found['Honor\\xe9-Mercier'] = 24029 \n",
    "found['Jonqui\\xe8re'] = 24032 \n",
    "found[\"La Pointe-de-l'\\xcele\"] = 24033 \n",
    "found['LaSalle \\x96 \\xc9mard \\x96 Verdun'] = 24037 \n",
    "found['Laval-Les \\xceles'] = 24040 \n",
    "found['L\\xe9vis \\x96 Lotbini\\xe8re'] = 24042 \n",
    "found['Louis-H\\xe9bert'] = 24044 \n",
    "found['Marc-Aur\\xe8le-Fortin'] = 24065 \n",
    "found[\"M\\xe9gantic \\x96 L'\\xc9rable\"] = 24047\n",
    "found[\"Montmagny \\x96 L'Islet \\x96 Kamouraska \\x96 Rivi\\xe8re-du-Loup\"] = 24051\n",
    "found['Mont-Royal'] = 24052 \n",
    "found['Notre-Dame-de-Gr\\xe2ce \\x96 Westmount'] = 24053 \n",
    "found['Pierre-Boucher \\x96 Les Patriotes \\x96 Verch\\xe8res'] = 24014\n",
    "found['Portneuf \\x96 Jacques Cartier'] = 24058\n",
    "found['Qu\\xe9bec'] = 24059\n",
    "found['Rimouski-Neigette \\x96 T\\xe9miscouata \\x96 Les Basques'] = 24018 \n",
    "found['Rivi\\xe8re-des-Mille-\\xceles'] = 24062 \n",
    "found['Rivi\\xe8re-du-Nord'] = 24063\n",
    "found['Saint-L\\xe9onard \\x96 Saint-Michel'] = 24069 \n",
    "found['Salaberry \\x96 Suro\\xeet'] = 24071 \n",
    "found['Th\\xe9r\\xe8se-De Blainville'] = 24013 \n",
    "found['Trois-Rivi\\xe8res'] = 24076\n",
    "found[\"Ville-Marie \\x96 Le Sud-Ouest \\x96 L'\\xcele-des-Soeurs\"] = 24077 \n",
    "found['Beaus\\xe9jour'] = 13002 \n",
    "found[\"South Shore \\x96 St. Margaret's\"] = 12009"
   ]
  },
  {
   "cell_type": "code",
   "execution_count": 6,
   "metadata": {
    "collapsed": false
   },
   "outputs": [
    {
     "name": "stderr",
     "output_type": "stream",
     "text": [
      "/Users/stephenmcmurtry/anaconda/lib/python2.7/site-packages/IPython/kernel/__main__.py:7: UnicodeWarning: Unicode equal comparison failed to convert both arguments to Unicode - interpreting them as being unequal\n",
      "/Users/stephenmcmurtry/anaconda/lib/python2.7/site-packages/IPython/kernel/__main__.py:3: UnicodeWarning: Unicode equal comparison failed to convert both arguments to Unicode - interpreting them as being unequal\n",
      "  app.launch_new_instance()\n"
     ]
    }
   ],
   "source": [
    "not_found = []\n",
    "for r in ridings:\n",
    "    if r in a2:\n",
    "        found[r] = a2[r]\n",
    "    else:\n",
    "        new = r.replace(' \\x96 ', '--')\n",
    "        if new in a2:\n",
    "            found[r] = a2[new]\n",
    "        else:\n",
    "            not_found.append(r)"
   ]
  },
  {
   "cell_type": "code",
   "execution_count": 7,
   "metadata": {
    "collapsed": false
   },
   "outputs": [
    {
     "data": {
      "text/plain": [
       "['St. Albert \\x96 Edmonton*',\n",
       " 'Sturgeon River',\n",
       " 'Desneth\\xe9 \\x96 Missinippi \\x96 Churchill River',\n",
       " 'Dauphin \\x96 Swan River \\x96 Neepawa*',\n",
       " 'Haliburton \\x96 Kawaratha Lakes \\x96 Brock',\n",
       " 'Orl\\xe9ans',\n",
       " 'Abitibi \\x96 T\\xe9miscamingue',\n",
       " 'Ahuntsic \\x96 Cartierville',\n",
       " 'Avignon \\x96 La Mitis \\x96 Matane \\x96 Matap\\xe9dia*',\n",
       " \"Beauport \\x96 C\\xf4te-de-Beaupr\\xe9 \\x96 \\xcele d'Orl\\xe9ans \\x96 Charlevoix\",\n",
       " 'B\\xe9cancour \\x96 Nicolet \\x96 Saurel',\n",
       " 'Bellechasse \\x96 Les Etchemins \\x96 L\\xe9vis',\n",
       " 'Berthier \\x96 Maskinong\\xe9',\n",
       " 'Ch\\xe2teauguay \\x96 Lacolle',\n",
       " 'Gasp\\xe9sie \\x96 Les \\xceles-de-la-Madeleine',\n",
       " 'Honor\\xe9-Mercier',\n",
       " 'Jonqui\\xe8re',\n",
       " \"La Pointe-de-l'\\xcele\",\n",
       " 'LaSalle \\x96 \\xc9mard \\x96 Verdun',\n",
       " 'Laval-Les \\xceles',\n",
       " 'L\\xe9vis \\x96 Lotbini\\xe8re',\n",
       " 'Louis-H\\xe9bert',\n",
       " 'Marc-Aur\\xe8le-Fortin',\n",
       " \"M\\xe9gantic \\x96 L'\\xc9rable\",\n",
       " \"Montmagny \\x96 L'Islet \\x96 Kamouraska \\x96 Rivi\\xe8re-du-Loup\",\n",
       " 'Mont-Royal',\n",
       " 'Notre-Dame-de-Gr\\xe2ce \\x96 Westmount',\n",
       " 'Pierre-Boucher \\x96 Les Patriotes \\x96 Verch\\xe8res',\n",
       " 'Portneuf \\x96 Jacques Cartier',\n",
       " 'Qu\\xe9bec',\n",
       " 'Rimouski-Neigette \\x96 T\\xe9miscouata \\x96 Les Basques',\n",
       " 'Rivi\\xe8re-des-Mille-\\xceles',\n",
       " 'Rivi\\xe8re-du-Nord',\n",
       " 'Saint-L\\xe9onard \\x96 Saint-Michel',\n",
       " 'Salaberry \\x96 Suro\\xeet',\n",
       " 'Th\\xe9r\\xe8se-De Blainville',\n",
       " 'Trois-Rivi\\xe8res',\n",
       " \"Ville-Marie \\x96 Le Sud-Ouest \\x96 L'\\xcele-des-Soeurs\",\n",
       " 'Beaus\\xe9jour',\n",
       " \"South Shore \\x96 St. Margaret's\"]"
      ]
     },
     "execution_count": 7,
     "metadata": {},
     "output_type": "execute_result"
    }
   ],
   "source": [
    "not_found"
   ]
  },
  {
   "cell_type": "code",
   "execution_count": 8,
   "metadata": {
    "collapsed": false
   },
   "outputs": [
    {
     "data": {
      "text/plain": [
       "338"
      ]
     },
     "execution_count": 8,
     "metadata": {},
     "output_type": "execute_result"
    }
   ],
   "source": [
    "len(found)"
   ]
  },
  {
   "cell_type": "code",
   "execution_count": 9,
   "metadata": {
    "collapsed": false
   },
   "outputs": [
    {
     "data": {
      "text/plain": [
       "338"
      ]
     },
     "execution_count": 9,
     "metadata": {},
     "output_type": "execute_result"
    }
   ],
   "source": [
    "len(set(found.keys()))"
   ]
  },
  {
   "cell_type": "code",
   "execution_count": 10,
   "metadata": {
    "collapsed": false
   },
   "outputs": [
    {
     "data": {
      "text/plain": [
       "338"
      ]
     },
     "execution_count": 10,
     "metadata": {},
     "output_type": "execute_result"
    }
   ],
   "source": [
    "len(set(found.values()))"
   ]
  },
  {
   "cell_type": "markdown",
   "metadata": {},
   "source": [
    "I got them all!"
   ]
  },
  {
   "cell_type": "markdown",
   "metadata": {},
   "source": [
    "It seems that eric's text file is encoded using WINDOWS-1252. The special characters cannot be displayed in a webpage. So, I have converted his text file to UTF-8 with the command:\n",
    "\n",
    "iconv -f WINDOWS-1252 -t UTF-8 filename.txt\n",
    "\n",
    "However, it would be difficult and possibly slow to do this in the browser every time someone loads the map. So, I'll add the UTF-8 encoded riding names to my csv file."
   ]
  },
  {
   "cell_type": "code",
   "execution_count": 11,
   "metadata": {
    "collapsed": true
   },
   "outputs": [],
   "source": [
    "c1 = read_file('../data/Ridings_Aug_28_utf8.txt')\n",
    "c2 = tab_separate(c1)\n",
    "c3 = remove_non_data_lines(c2)\n",
    "ridings2 = get_riding_names(c3)"
   ]
  },
  {
   "cell_type": "code",
   "execution_count": 12,
   "metadata": {
    "collapsed": false
   },
   "outputs": [],
   "source": [
    "to_utf8 = dict(zip(ridings, ridings2))"
   ]
  },
  {
   "cell_type": "markdown",
   "metadata": {},
   "source": [
    "Create the dictionary as a csv file since the weird characters can't be used as attribute names in a json file"
   ]
  },
  {
   "cell_type": "code",
   "execution_count": 13,
   "metadata": {
    "collapsed": false
   },
   "outputs": [],
   "source": [
    "f = open('../data/riding_name_dict.csv', 'w')\n",
    "\n",
    "f.write('riding,FEDNUM,riding_utf8\\n')\n",
    "for k,v in found.items():\n",
    "    f.write(k + ',' + str(v) + ',' + to_utf8[k]+ '\\n')\n",
    "    \n",
    "f.close()"
   ]
  },
  {
   "cell_type": "code",
   "execution_count": 15,
   "metadata": {
    "collapsed": true
   },
   "outputs": [],
   "source": [
    "f = open('../data/riding_name_dict_2.csv', 'w')\n",
    "\n",
    "f.write('riding,FEDNUM,riding_utf8\\n')\n",
    "for k,v in found.items():\n",
    "    f.write(to_utf8[k] + ',' + str(v) + ',' + to_utf8[k]+ '\\n')\n",
    "    \n",
    "f.close()"
   ]
  },
  {
   "cell_type": "code",
   "execution_count": null,
   "metadata": {
    "collapsed": true
   },
   "outputs": [],
   "source": []
  }
 ],
 "metadata": {
  "kernelspec": {
   "display_name": "Python 2",
   "language": "python",
   "name": "python2"
  },
  "language_info": {
   "codemirror_mode": {
    "name": "ipython",
    "version": 2
   },
   "file_extension": ".py",
   "mimetype": "text/x-python",
   "name": "python",
   "nbconvert_exporter": "python",
   "pygments_lexer": "ipython2",
   "version": "2.7.10"
  }
 },
 "nbformat": 4,
 "nbformat_minor": 0
}
